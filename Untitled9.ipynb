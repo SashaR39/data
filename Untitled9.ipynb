{
  "nbformat": 4,
  "nbformat_minor": 0,
  "metadata": {
    "colab": {
      "provenance": [],
      "authorship_tag": "ABX9TyMEPP6ukZOZIoR9P6bn82UG",
      "include_colab_link": true
    },
    "kernelspec": {
      "name": "python3",
      "display_name": "Python 3"
    },
    "language_info": {
      "name": "python"
    }
  },
  "cells": [
    {
      "cell_type": "markdown",
      "metadata": {
        "id": "view-in-github",
        "colab_type": "text"
      },
      "source": [
        "<a href=\"https://colab.research.google.com/github/SashaR39/data/blob/master/Untitled9.ipynb\" target=\"_parent\"><img src=\"https://colab.research.google.com/assets/colab-badge.svg\" alt=\"Open In Colab\"/></a>"
      ]
    },
    {
      "cell_type": "code",
      "execution_count": 8,
      "metadata": {
        "id": "yWbWfqqPwuPc"
      },
      "outputs": [],
      "source": [
        "def votingage(list):\n",
        "  for i in list:\n",
        "    if i>= 18:\n",
        "      print(\"True\")\n",
        "    else:\n",
        "      print(\"False\")"
      ]
    },
    {
      "cell_type": "code",
      "source": [
        "list = [16,13,25]\n",
        "votingage(list)"
      ],
      "metadata": {
        "colab": {
          "base_uri": "https://localhost:8080/"
        },
        "id": "CUgm30g1y_Yg",
        "outputId": "e0bbfc4e-3481-40a9-e5ac-442a0aa34ae6"
      },
      "execution_count": 9,
      "outputs": [
        {
          "output_type": "stream",
          "name": "stdout",
          "text": [
            "False\n",
            "False\n",
            "True\n"
          ]
        }
      ]
    }
  ]
}