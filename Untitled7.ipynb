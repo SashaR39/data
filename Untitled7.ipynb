{
  "nbformat": 4,
  "nbformat_minor": 0,
  "metadata": {
    "colab": {
      "provenance": [],
      "authorship_tag": "ABX9TyPGPsmLMCUpo3uOFlHCj++J",
      "include_colab_link": true
    },
    "kernelspec": {
      "name": "python3",
      "display_name": "Python 3"
    },
    "language_info": {
      "name": "python"
    }
  },
  "cells": [
    {
      "cell_type": "markdown",
      "metadata": {
        "id": "view-in-github",
        "colab_type": "text"
      },
      "source": [
        "<a href=\"https://colab.research.google.com/github/SashaR39/data/blob/master/Untitled7.ipynb\" target=\"_parent\"><img src=\"https://colab.research.google.com/assets/colab-badge.svg\" alt=\"Open In Colab\"/></a>"
      ]
    },
    {
      "cell_type": "code",
      "execution_count": 42,
      "metadata": {
        "id": "rjbs-PE7tuI9"
      },
      "outputs": [],
      "source": [
        "def BiNum(byte):\n",
        "  tally = []\n",
        "  NByte = str(byte)\n",
        "  if NByte[0] == '1':\n",
        "      tally.append(128)\n",
        "  if NByte[1] == '1':\n",
        "      tally.append(64)\n",
        "  if NByte [2]== '1':\n",
        "      tally.append(32)\n",
        "  if NByte [3]== '1':\n",
        "      tally.append(16)\n",
        "  if NByte [4]== '1':\n",
        "      tally.append(8)\n",
        "  if NByte [5]== '1':\n",
        "      tally.append(4)\n",
        "  if NByte [6] == '1':\n",
        "      tally.append(2)\n",
        "  if NByte [7]== '1':\n",
        "      tally.append(1)\n",
        "  Total = sum(tally)\n",
        "  return Total\n"
      ]
    },
    {
      "cell_type": "code",
      "source": [
        "BiNum('10100000')"
      ],
      "metadata": {
        "colab": {
          "base_uri": "https://localhost:8080/"
        },
        "id": "ohFESmO9vggb",
        "outputId": "519a75ae-d2a6-4cd0-a126-80221cfc2c70"
      },
      "execution_count": 45,
      "outputs": [
        {
          "output_type": "execute_result",
          "data": {
            "text/plain": [
              "160"
            ]
          },
          "metadata": {},
          "execution_count": 45
        }
      ]
    }
  ]
}