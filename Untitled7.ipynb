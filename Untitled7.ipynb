{
  "nbformat": 4,
  "nbformat_minor": 0,
  "metadata": {
    "colab": {
      "provenance": [],
      "authorship_tag": "ABX9TyMksMvBvoC3Wz307M9biIYf",
      "include_colab_link": true
    },
    "kernelspec": {
      "name": "python3",
      "display_name": "Python 3"
    },
    "language_info": {
      "name": "python"
    }
  },
  "cells": [
    {
      "cell_type": "markdown",
      "metadata": {
        "id": "view-in-github",
        "colab_type": "text"
      },
      "source": [
        "<a href=\"https://colab.research.google.com/github/SashaR39/data/blob/master/Untitled7.ipynb\" target=\"_parent\"><img src=\"https://colab.research.google.com/assets/colab-badge.svg\" alt=\"Open In Colab\"/></a>"
      ]
    },
    {
      "cell_type": "code",
      "execution_count": 11,
      "metadata": {
        "id": "rjbs-PE7tuI9"
      },
      "outputs": [],
      "source": [
        "def BiNum(byte):\n",
        "  tally = []\n",
        "  NByte = str(byte)\n",
        "  for i in NByte:\n",
        "    if i == NByte[0] and i == '1':\n",
        "      tally.append(128)\n",
        "    elif i == NByte[1] and i == '1':\n",
        "      tally.append(64)\n",
        "    elif i == NByte [2] and i == '1':\n",
        "      tally.append(32)\n",
        "    elif i == NByte [3] and i == '1':\n",
        "      tally.append(16)\n",
        "    elif i == NByte [4] and i == '1':\n",
        "      tally.append(8)\n",
        "    elif i == NByte [5] and i == '1':\n",
        "      tally.append(4)\n",
        "    elif i == NByte [6] and i == '1':\n",
        "      tally.append(2)\n",
        "    elif i == NByte [7] and i == '1':\n",
        "      tally.append(1)\n",
        "  Total = sum(tally)\n",
        "  return Total\n"
      ]
    },
    {
      "cell_type": "code",
      "source": [
        "BiNum(11000000)"
      ],
      "metadata": {
        "colab": {
          "base_uri": "https://localhost:8080/"
        },
        "id": "ohFESmO9vggb",
        "outputId": "c967ce7a-bca3-4d08-ed6b-b2560929d9ba"
      },
      "execution_count": 15,
      "outputs": [
        {
          "output_type": "execute_result",
          "data": {
            "text/plain": [
              "256"
            ]
          },
          "metadata": {},
          "execution_count": 15
        }
      ]
    }
  ]
}