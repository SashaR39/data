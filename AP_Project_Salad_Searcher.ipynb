{
  "nbformat": 4,
  "nbformat_minor": 0,
  "metadata": {
    "colab": {
      "provenance": [],
      "authorship_tag": "ABX9TyOdgx25Al6Vq4hJxlp6TUdm",
      "include_colab_link": true
    },
    "kernelspec": {
      "name": "python3",
      "display_name": "Python 3"
    },
    "language_info": {
      "name": "python"
    }
  },
  "cells": [
    {
      "cell_type": "markdown",
      "metadata": {
        "id": "view-in-github",
        "colab_type": "text"
      },
      "source": [
        "<a href=\"https://colab.research.google.com/github/SashaR39/data/blob/master/AP_Project_Salad_Searcher.ipynb\" target=\"_parent\"><img src=\"https://colab.research.google.com/assets/colab-badge.svg\" alt=\"Open In Colab\"/></a>"
      ]
    },
    {
      "cell_type": "code",
      "execution_count": 1,
      "metadata": {
        "id": "1l3znOuiAQY5",
        "colab": {
          "base_uri": "https://localhost:8080/",
          "height": 131
        },
        "outputId": "e3b98aa1-e9d4-4bb9-ac51-23453f03f7dc"
      },
      "outputs": [
        {
          "output_type": "error",
          "ename": "SyntaxError",
          "evalue": "ignored",
          "traceback": [
            "\u001b[0;36m  File \u001b[0;32m\"<ipython-input-1-477e40c45035>\"\u001b[0;36m, line \u001b[0;32m13\u001b[0m\n\u001b[0;31m    \u001b[0m\n\u001b[0m    ^\u001b[0m\n\u001b[0;31mSyntaxError\u001b[0m\u001b[0;31m:\u001b[0m unexpected EOF while parsing\n"
          ]
        }
      ],
      "source": [
        "from IPython.display import clear_output\n",
        "import time\n",
        "welcome = \"Hello! Welcome to Salad Searcher. You will be asked to choose a salad to explore. \\nThen, you will state which type of each ingredient you have in your salad. \\nOnce all ingredients have been covered, we will provide a visual of where your salad is from!\"\n",
        "\n",
        "def search(Salad):\n",
        "  print(welcome)\n",
        "  time.sleep(5)\n",
        "  Glist = [\"Cucumber\", \"Tomato\", \"Peppers\", \"Onion\", \"Olives\", \"Cheese\"]\n",
        "  Clist = [\"Lettuce\", \"Cheese\", \"Croutons\", \"Dressing\"]\n",
        "  Alist = [\"Orange\", \"Pineapple\", \"Coconut\", \"Marshmallow\", \"Cool Whip\"]\n",
        "  Salad = input(\"Please choose one of the following salads to explore: GREEK, CEASAR, AMBROSIA\")\n",
        "  Answer = []\n",
        "  Answer.append(Salad)\n",
        "  for i in Answer:\n",
        "    if i == \"GREEK\":\n",
        "      for i in Glist:\n",
        "        resp = input(\"Is this ingredient in your salad?\")\n",
        "        if resp.upper() == \"yes\":\n",
        "          \n",
        "\n",
        "\n"
      ]
    }
  ]
}