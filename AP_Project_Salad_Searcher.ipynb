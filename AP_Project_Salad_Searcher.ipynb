{
  "nbformat": 4,
  "nbformat_minor": 0,
  "metadata": {
    "colab": {
      "provenance": [],
      "authorship_tag": "ABX9TyMsK6TeZFA1Wzpq6qH/A0Ve",
      "include_colab_link": true
    },
    "kernelspec": {
      "name": "python3",
      "display_name": "Python 3"
    },
    "language_info": {
      "name": "python"
    }
  },
  "cells": [
    {
      "cell_type": "markdown",
      "metadata": {
        "id": "view-in-github",
        "colab_type": "text"
      },
      "source": [
        "<a href=\"https://colab.research.google.com/github/SashaR39/data/blob/master/AP_Project_Salad_Searcher.ipynb\" target=\"_parent\"><img src=\"https://colab.research.google.com/assets/colab-badge.svg\" alt=\"Open In Colab\"/></a>"
      ]
    },
    {
      "cell_type": "code",
      "execution_count": 21,
      "metadata": {
        "id": "1l3znOuiAQY5"
      },
      "outputs": [],
      "source": [
        "from IPython.display import clear_output\n",
        "import time\n",
        "import matplotlib.pyplot as plt\n",
        "import numpy as np\n",
        "\n",
        "\n",
        "welcome = \"Hello! Welcome to Salad Searcher. You will be asked to choose a salad to explore. \\nThen, you will state which type of each ingredient you have in your salad. \\nOnce all ingredients have been covered, we will provide a visual of where your salad is from!\"\n",
        "\n",
        "def chart(my_list):\n",
        "  new = my_list\n",
        "  confirm = input(\"Please confirm how many ingredients are in your salad. (Please use numerical form)\")\n",
        "  if len(new) == int(confirm) and len(new) == 1:\n",
        "    y = np.array([100])\n",
        "\n",
        "    plt.pie(y, labels = my_list)\n",
        "    plt.show() \n",
        "\n",
        "  elif len(new) == int(confirm) and len(new) == 2:\n",
        "    y = np.array([50,50])\n",
        "\n",
        "    plt.pie(y, labels = my_list)\n",
        "    plt.show() \n",
        "  \n",
        "  elif len(new) == int(confirm) and len(new) == 3:\n",
        "    y = np.array([33.3, 33.3, 33.3])\n",
        "\n",
        "    plt.pie(y, labels = my_list)\n",
        "    plt.show() \n",
        "\n",
        "  elif len(new) == int(confirm) and len(new) == 4:\n",
        "    y = np.array([25,25,25,25])\n",
        "\n",
        "    plt.pie(y, labels = my_list)\n",
        "    plt.show() \n",
        "\n",
        "  elif len(new) == int(confirm) and len(new) == 5:\n",
        "    y = np.array([20,20,20,20,20])\n",
        "\n",
        "    plt.pie(y, labels = my_list)\n",
        "    plt.show() \n",
        "\n",
        "  elif len(new) == int(confirm) and len(new) == 6:\n",
        "    y = np.array([16.6, 16.6, 16.6, 16.6, 16.6, 16.6])\n",
        "\n",
        "    plt.pie(y, labels = my_list)\n",
        "    plt.show()\n",
        "\n",
        "\n",
        "  \n",
        "def search():\n",
        "  print(welcome)\n",
        "  time.sleep(5)\n",
        "  Glist = [\"Cucumber\", \"Tomato\", \"Peppers\", \"Onion\", \"Olives\", \"Cheese\"]\n",
        "  size = 0\n",
        "  Clist = [\"Lettuce\", \"Cheese\", \"Croutons\", \"Dressing\"]\n",
        "  Alist = [\"Orange\", \"Pineapple\", \"Coconut\", \"Marshmallow\", \"Cool Whip\"]\n",
        "  my_list = []\n",
        "  Salad = input(\"Please choose one of the following salads to explore: GREEK, CEASAR, AMBROSIA\")\n",
        "  if Salad.upper() == \"GREEK\":\n",
        "      for i in Glist:\n",
        "        resp = input(\"Is \" + i + \" in your salad?\")\n",
        "        if resp.upper() == \"YES\":\n",
        "          print(i + \" added.\")\n",
        "          my_list.append(i)\n",
        "          size = size + 1\n",
        "          print(my_list)\n",
        "        else:\n",
        "          print(i + \" will not be added.\")\n",
        "      chart(my_list)\n",
        "  elif Salad.upper() == \"CEASAR\":\n",
        "      for i in Clist:\n",
        "        resp = input(\"Is \" + i + \" in your salad?\")\n",
        "        if resp.upper() == \"YES\":\n",
        "          print(i + \" added.\")\n",
        "          my_list.append(i)\n",
        "          size = size + 1\n",
        "        else:\n",
        "          print(i + \" will not be added.\")\n",
        "      chart(my_list)\n",
        "  elif Salad.upper() == \"AMBROSIA\":\n",
        "      for i in Alist:\n",
        "        resp = input(\"Is \" + i + \" in your salad?\")\n",
        "        if resp.upper() == \"YES\":\n",
        "          print(i + \" added.\")\n",
        "          my_list.append(i)\n",
        "          size = size + 1\n",
        "        else:\n",
        "          print(i + \" will not be added.\")\n",
        "      chart(my_list)\n",
        "          \n",
        "\n",
        "\n"
      ]
    },
    {
      "cell_type": "code",
      "source": [
        "search()"
      ],
      "metadata": {
        "colab": {
          "base_uri": "https://localhost:8080/",
          "height": 613
        },
        "id": "db-ljXjmT3Qz",
        "outputId": "2493a35c-e090-47b8-dfdf-68365dd94059"
      },
      "execution_count": 22,
      "outputs": [
        {
          "name": "stdout",
          "output_type": "stream",
          "text": [
            "Hello! Welcome to Salad Searcher. You will be asked to choose a salad to explore. \n",
            "Then, you will state which type of each ingredient you have in your salad. \n",
            "Once all ingredients have been covered, we will provide a visual of where your salad is from!\n",
            "Please choose one of the following salads to explore: GREEK, CEASAR, AMBROSIAgreek\n",
            "Is Cucumber in your salad?yes\n",
            "Cucumber added.\n",
            "['Cucumber']\n",
            "Is Tomato in your salad?yes\n",
            "Tomato added.\n",
            "['Cucumber', 'Tomato']\n",
            "Is Peppers in your salad?yes\n",
            "Peppers added.\n",
            "['Cucumber', 'Tomato', 'Peppers']\n",
            "Is Onion in your salad?yes\n",
            "Onion added.\n",
            "['Cucumber', 'Tomato', 'Peppers', 'Onion']\n",
            "Is Olives in your salad?no\n",
            "Olives will not be added.\n",
            "Is Cheese in your salad?no\n",
            "Cheese will not be added.\n",
            "Please confirm how many ingredients are in your salad. (Please use numerical form)4\n"
          ]
        },
        {
          "output_type": "display_data",
          "data": {
            "text/plain": [
              "<Figure size 432x288 with 1 Axes>"
            ],
            "image/png": "[encoded data removed]"
          },
          "metadata": {}
        }
      ]
    }
  ]
}