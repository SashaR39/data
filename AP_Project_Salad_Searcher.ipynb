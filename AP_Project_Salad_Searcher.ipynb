{
  "nbformat": 4,
  "nbformat_minor": 0,
  "metadata": {
    "colab": {
      "provenance": [],
      "authorship_tag": "ABX9TyNwAB7dOc4+YomX1D5CzG+t",
      "include_colab_link": true
    },
    "kernelspec": {
      "name": "python3",
      "display_name": "Python 3"
    },
    "language_info": {
      "name": "python"
    }
  },
  "cells": [
    {
      "cell_type": "markdown",
      "metadata": {
        "id": "view-in-github",
        "colab_type": "text"
      },
      "source": [
        "<a href=\"https://colab.research.google.com/github/SashaR39/data/blob/master/AP_Project_Salad_Searcher.ipynb\" target=\"_parent\"><img src=\"https://colab.research.google.com/assets/colab-badge.svg\" alt=\"Open In Colab\"/></a>"
      ]
    },
    {
      "cell_type": "code",
      "execution_count": null,
      "metadata": {
        "id": "1l3znOuiAQY5"
      },
      "outputs": [],
      "source": [
        "from IPython.display import clear_output\n",
        "import time\n",
        "welcome = \"Hello! Welcome to Salad Searcher. You will be asked to choose a salad to explore. \\nThen, you will state which type of each ingredient you have in your salad. \\nOnce all ingredients have been covered, we will provide a visual of where your salad is from!\"\n",
        "\n",
        "def chart(size):\n",
        "  confirm = input(\"Please confirm how many ingredients are in your salad. (Please use numerical form)\")\n",
        "  if size == confirm and size == 1:\n",
        "    \n",
        "  \n",
        "\n",
        "def search():\n",
        "  print(welcome)\n",
        "  time.sleep(5)\n",
        "  Glist = [\"Cucumber\", \"Tomato\", \"Peppers\", \"Onion\", \"Olives\", \"Cheese\"]\n",
        "  size = 0\n",
        "  Clist = [\"Lettuce\", \"Cheese\", \"Croutons\", \"Dressing\"]\n",
        "  Alist = [\"Orange\", \"Pineapple\", \"Coconut\", \"Marshmallow\", \"Cool Whip\"]\n",
        "  my_list = []\n",
        "  Salad = input(\"Please choose one of the following salads to explore: GREEK, CEASAR, AMBROSIA\")\n",
        "  Answer = []\n",
        "  Answer.append(Salad)\n",
        "  for i in Answer:\n",
        "    if i == \"GREEK\":\n",
        "      for i in Glist:\n",
        "        resp = input(\"Is this ingredient in your salad?\")\n",
        "        if resp.upper() == \"yes\":\n",
        "          print(resp + \" added.\")\n",
        "          my_list.append(i)\n",
        "          size = size + 1\n",
        "        else:\n",
        "          print(resp + \" will not be added.\")\n",
        "      chart(size)\n",
        "\n",
        "    elif i == \"CEASAR\":\n",
        "      for i in Clist:\n",
        "        resp = input(\"Is this ingredient in your salad?\")\n",
        "        if resp.upper() == \"yes\":\n",
        "          print(resp + \" added.\")\n",
        "          my_list.append(i)\n",
        "          size = size + 1\n",
        "        else:\n",
        "          print(resp + \" will not be added.\")\n",
        "      chart(size)\n",
        "    elif i == \"AMBROSIA\":\n",
        "      for i in Alist:\n",
        "        resp = input(\"Is this ingredient in your salad?\")\n",
        "        if resp.upper() == \"yes\":\n",
        "          print(resp + \" added.\")\n",
        "          my_list.append(i)\n",
        "          size = size + 1\n",
        "        else:\n",
        "          print(resp + \" will not be added.\")\n",
        "      chart(size)\n",
        "          \n",
        "\n",
        "\n"
      ]
    },
    {
      "cell_type": "code",
      "source": [
        "Glist = [\"Cucumber\", \"Tomato\", \"Peppers\", \"Onion\", \"Olives\", \"Cheese\"]\n",
        "Clist = [\"Lettuce\", \"Cheese\", \"Croutons\", \"Dressing\"]\n",
        "Alist = [\"Orange\", \"Pineapple\", \"Coconut\", \"Marshmallow\", \"Cool Whip\"]\n",
        "Salad = input(\"Please choose one of the following salads to explore: GREEK, CEASAR, AMBROSIA\")\n",
        "\n",
        "search(Salad)"
      ],
      "metadata": {
        "colab": {
          "base_uri": "https://localhost:8080/"
        },
        "id": "db-ljXjmT3Qz",
        "outputId": "cb7a483c-9b87-41fe-a3cc-db7bacbfea30"
      },
      "execution_count": null,
      "outputs": [
        {
          "name": "stdout",
          "output_type": "stream",
          "text": [
            "Please choose one of the following salads to explore: GREEK, CEASAR, AMBROSIAGreek\n",
            "Hello! Welcome to Salad Searcher. You will be asked to choose a salad to explore. \n",
            "Then, you will state which type of each ingredient you have in your salad. \n",
            "Once all ingredients have been covered, we will provide a visual of where your salad is from!\n",
            "Please choose one of the following salads to explore: GREEK, CEASAR, AMBROSIAGreek\n"
          ]
        },
        {
          "output_type": "execute_result",
          "data": {
            "text/plain": [
              "['Greek']"
            ]
          },
          "metadata": {},
          "execution_count": 9
        }
      ]
    }
  ]
}