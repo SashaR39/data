{
  "nbformat": 4,
  "nbformat_minor": 0,
  "metadata": {
    "colab": {
      "provenance": [],
      "authorship_tag": "ABX9TyOS5nT0CS00lspnCZKpgRnl",
      "include_colab_link": true
    },
    "kernelspec": {
      "name": "python3",
      "display_name": "Python 3"
    },
    "language_info": {
      "name": "python"
    }
  },
  "cells": [
    {
      "cell_type": "markdown",
      "metadata": {
        "id": "view-in-github",
        "colab_type": "text"
      },
      "source": [
        "<a href=\"https://colab.research.google.com/github/SashaR39/data/blob/master/Untitled6.ipynb\" target=\"_parent\"><img src=\"https://colab.research.google.com/assets/colab-badge.svg\" alt=\"Open In Colab\"/></a>"
      ]
    },
    {
      "cell_type": "code",
      "execution_count": 27,
      "metadata": {
        "id": "uiCTT2UuooXH"
      },
      "outputs": [],
      "source": [
        "def CheckStrings(one, two, three):\n",
        "  One = str(one)\n",
        "  Two = str(two)\n",
        "  Three = str(three)\n",
        "  same = []\n",
        "  while len(One) > 0:\n",
        "    if One[0] == Two[0] and Three[0]:\n",
        "      same.append(One[0])\n",
        "    One = One[1:]\n",
        "    Two = Two[1:]\n",
        "    Three = Three[1:]\n",
        "  return (same)"
      ]
    },
    {
      "cell_type": "code",
      "source": [
        "CheckStrings(\"flow\", \"flow\", \"fliw\")"
      ],
      "metadata": {
        "colab": {
          "base_uri": "https://localhost:8080/"
        },
        "id": "DSzE72qwpUGU",
        "outputId": "599e5b7f-9c08-4bcc-cf0f-67b354194d9d"
      },
      "execution_count": 28,
      "outputs": [
        {
          "output_type": "execute_result",
          "data": {
            "text/plain": [
              "['f', 'l', 'o', 'w']"
            ]
          },
          "metadata": {},
          "execution_count": 28
        }
      ]
    },
    {
      "cell_type": "code",
      "source": [
        "word = \"Flamingo\"\n",
        "\n",
        "word = word[1:]\n",
        "print(word)\n",
        "word = word[1:]\n",
        "print(word)"
      ],
      "metadata": {
        "colab": {
          "base_uri": "https://localhost:8080/"
        },
        "id": "nFvMo68UsGOW",
        "outputId": "fa1aa7d7-1a7b-486d-c431-5b437fb19735"
      },
      "execution_count": 16,
      "outputs": [
        {
          "output_type": "stream",
          "name": "stdout",
          "text": [
            "lamingo\n",
            "amingo\n"
          ]
        }
      ]
    }
  ]
}