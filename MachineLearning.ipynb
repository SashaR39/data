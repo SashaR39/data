{
  "nbformat": 4,
  "nbformat_minor": 0,
  "metadata": {
    "colab": {
      "provenance": [],
      "include_colab_link": true
    },
    "kernelspec": {
      "name": "python3",
      "display_name": "Python 3"
    },
    "language_info": {
      "name": "python"
    }
  },
  "cells": [
    {
      "cell_type": "markdown",
      "metadata": {
        "id": "view-in-github",
        "colab_type": "text"
      },
      "source": [
        "<a href=\"https://colab.research.google.com/github/SashaR39/data/blob/master/MachineLearning.ipynb\" target=\"_parent\"><img src=\"https://colab.research.google.com/assets/colab-badge.svg\" alt=\"Open In Colab\"/></a>"
      ]
    },
    {
      "cell_type": "markdown",
      "source": [
        "#Machine Learning\n",
        "You will create a machine learning model that is trained on the MNIST data set. [The MNIST dataset](https://en.wikipedia.org/wiki/MNIST_database) is a classic benchmark dataset in the field of machine learning and computer vision. It consists of a set of 70,000 handwritten digit images, each of which is a grayscale image of size 28x28 pixels.\n",
        "\n",
        "The dataset is split into two subsets: a training set of 60,000 images and a test set of 10,000 images. The training set is used to train a machine learning model, while the test set is used to evaluate the performance of the model on new, unseen data.\n",
        "\n",
        "The digits in the dataset were collected from a variety of sources, including high school students and employees of the United States Census Bureau.\n",
        "\n",
        "The MNIST dataset has been used extensively to evaluate the performance of machine learning models for image classification tasks. Many popular machine learning frameworks, including TensorFlow and PyTorch, provide built-in support for loading and working with the MNIST dataset."
      ],
      "metadata": {
        "id": "CiEq1WRsvQCa"
      }
    },
    {
      "cell_type": "code",
      "execution_count": 3,
      "metadata": {
        "id": "QaNg9-0vvPf9",
        "outputId": "b8cfd613-8f17-438d-a42a-2677331081e6",
        "colab": {
          "base_uri": "https://localhost:8080/",
          "height": 443
        }
      },
      "outputs": [
        {
          "output_type": "stream",
          "name": "stdout",
          "text": [
            "Epoch 1/2\n",
            "1875/1875 [==============================] - 9s 5ms/step - loss: 0.2608 - accuracy: 0.9259\n",
            "Epoch 2/2\n",
            "1875/1875 [==============================] - 7s 4ms/step - loss: 0.1136 - accuracy: 0.9669\n",
            "313/313 [==============================] - 1s 2ms/step - loss: 0.0985 - accuracy: 0.9709\n",
            "Test accuracy: 0.9708999991416931\n",
            "313/313 [==============================] - 1s 2ms/step\n"
          ]
        },
        {
          "output_type": "error",
          "ename": "IndexError",
          "evalue": "ignored",
          "traceback": [
            "\u001b[0;31m---------------------------------------------------------------------------\u001b[0m",
            "\u001b[0;31mIndexError\u001b[0m                                Traceback (most recent call last)",
            "\u001b[0;32m<ipython-input-3-5a8b9d2015ee>\u001b[0m in \u001b[0;36m<cell line: 39>\u001b[0;34m()\u001b[0m\n\u001b[1;32m     49\u001b[0m     \u001b[0;32melse\u001b[0m\u001b[0;34m:\u001b[0m\u001b[0;34m\u001b[0m\u001b[0;34m\u001b[0m\u001b[0m\n\u001b[1;32m     50\u001b[0m         \u001b[0mcolor\u001b[0m \u001b[0;34m=\u001b[0m \u001b[0;34m'red'\u001b[0m\u001b[0;34m\u001b[0m\u001b[0;34m\u001b[0m\u001b[0m\n\u001b[0;32m---> 51\u001b[0;31m     plt.xlabel(\"{} ({})\".format(class_names[predicted_label], \n\u001b[0m\u001b[1;32m     52\u001b[0m                                 class_names[true_label]),\n\u001b[1;32m     53\u001b[0m                                 color=color)\n",
            "\u001b[0;31mIndexError\u001b[0m: list index out of range"
          ]
        },
        {
          "output_type": "display_data",
          "data": {
            "text/plain": [
              "<Figure size 500x500 with 1 Axes>"
            ],
            "image/png": "[encoded data removed]"
          },
          "metadata": {}
        }
      ],
      "source": [
        "import tensorflow as tf\n",
        "from tensorflow import keras\n",
        "import numpy as np\n",
        "import matplotlib.pyplot as plt\n",
        "\n",
        "# Load the MNIST dataset\n",
        "mnist = keras.datasets.mnist\n",
        "(train_images, train_labels), (test_images, test_labels) = mnist.load_data()\n",
        "\n",
        "# Preprocess the data\n",
        "train_images = train_images / 255.0\n",
        "test_images = test_images / 255.0\n",
        "\n",
        "# Define the model\n",
        "model = keras.Sequential([\n",
        "    keras.layers.Flatten(input_shape=(28, 28)),\n",
        "    keras.layers.Dense(128, activation='relu'),\n",
        "    keras.layers.Dense(10, activation='softmax')\n",
        "])\n",
        "\n",
        "# Compile the model\n",
        "model.compile(optimizer='adam',\n",
        "              loss='sparse_categorical_crossentropy',\n",
        "              metrics=['accuracy'])\n",
        "\n",
        "# Train the model\n",
        "model.fit(train_images, train_labels, epochs=2)\n",
        "\n",
        "# Evaluate the model\n",
        "test_loss, test_acc = model.evaluate(test_images, test_labels)\n",
        "print('Test accuracy:', test_acc)\n",
        "\n",
        "# Make predictions on new data\n",
        "predictions = model.predict(test_images)\n",
        "\n",
        "# Visualize the predictions\n",
        "class_names = [str(i) for i in range(5)]\n",
        "plt.figure(figsize=(5,5))\n",
        "for i in range(25):\n",
        "    plt.subplot(5,5,i+1)\n",
        "    plt.xticks([])\n",
        "    plt.yticks([])\n",
        "    plt.grid(False)\n",
        "    plt.imshow(test_images[i], cmap=plt.cm.binary)\n",
        "    predicted_label = np.argmax(predictions[i])\n",
        "    true_label = test_labels[i]\n",
        "    if predicted_label == true_label:\n",
        "        color = 'green'\n",
        "    else:\n",
        "        color = 'red'\n",
        "    plt.xlabel(\"{} ({})\".format(class_names[predicted_label], \n",
        "                                class_names[true_label]),\n",
        "                                color=color)\n",
        "plt.show()"
      ]
    },
    {
      "cell_type": "markdown",
      "source": [
        "DO: Epoch is how many times the model is trained on the training data set. Change the number of epochs that the model is trained on and notice how that affects the loss and accuracy of the model.[link text]"
      ],
      "metadata": {
        "id": "QqMoSuQ_v-QC"
      }
    },
    {
      "cell_type": "markdown",
      "source": [
        "The less epochs, the less accurate the prediction is, and vice versa."
      ],
      "metadata": {
        "id": "V1EMUY9XweYz"
      }
    },
    {
      "cell_type": "markdown",
      "source": [
        "DO: Change other parameters in the code block above and notice what changes your code made."
      ],
      "metadata": {
        "id": "irIKPrt-wemh"
      }
    },
    {
      "cell_type": "markdown",
      "source": [
        "I changed the range from 10 to 5 and it only outputted one number and did not guess which number it was."
      ],
      "metadata": {
        "id": "0eRQLccowwLy"
      }
    },
    {
      "cell_type": "markdown",
      "source": [
        "Test your model: Use software to create a 28 x 28 image with a number drawn on it. Upload the image into the google colab workspace, change the path to the image and then run the model to see how well it identifies your 'handwriting'"
      ],
      "metadata": {
        "id": "rtHpzZLDwx1s"
      }
    },
    {
      "cell_type": "code",
      "source": [
        "import cv2\n",
        "import numpy as np\n",
        "import matplotlib.pyplot as plt\n",
        "from google.colab.patches import cv2_imshow\n",
        "\n",
        "# Load the trained model\n",
        "\n",
        "# Load the image and convert it to grayscale\n",
        "image = cv2.imread(\"1.jpg\")\n",
        "gray = cv2.cvtColor(image, cv2.COLOR_BGR2GRAY)\n",
        "\n",
        "# Resize the image to 28x28 pixels (the size expected by the model)\n",
        "resized = cv2.resize(gray, (28, 28), interpolation=cv2.INTER_AREA)\n",
        "\n",
        "# Normalize the pixel values to be between 0 and 1\n",
        "normalized = resized / 255.0\n",
        "\n",
        "# Reshape the image to be a 1x28x28x1 array (the shape expected by the model)\n",
        "reshaped = normalized.reshape((1, 28, 28, 1))\n",
        "\n",
        "# Use the model to predict the label of the image\n",
        "prediction = model.predict(reshaped)[0]\n",
        "predicted_label = np.argmax(prediction)\n",
        "\n",
        "\n",
        "\n",
        "\n",
        "# Create an output image with the predicted label\n",
        "output_image = np.zeros((100, 500, 3), dtype=np.uint8)\n",
        "cv2.putText(output_image, \"Prediction: {}\".format(predicted_label), (30, 60), cv2.FONT_HERSHEY_SIMPLEX, 2, (255, 255, 255), 2)\n",
        "\n",
        "# Resize the original image to have the same height as the output image\n",
        "image = cv2.resize(image, (int(output_image.shape[1] / output_image.shape[0] * image.shape[0]), output_image.shape[0]))\n",
        "\n",
        "# Display the image and the predicted label side by side\n",
        "cv2_imshow(np.hstack([image, output_image]))"
      ],
      "metadata": {
        "colab": {
          "base_uri": "https://localhost:8080/",
          "height": 134
        },
        "id": "tdVeapx_wvip",
        "outputId": "14b9d8b9-4122-4828-e686-c57a66c52ae6"
      },
      "execution_count": 18,
      "outputs": [
        {
          "output_type": "stream",
          "name": "stdout",
          "text": [
            "1/1 [==============================] - 0s 31ms/step\n"
          ]
        },
        {
          "output_type": "display_data",
          "data": {
            "text/plain": [
              "<PIL.Image.Image image mode=RGB size=640x100 at 0x7FB2E1B43B80>"
            ],
            "image/png": "[encoded data removed]"
          },
          "metadata": {}
        }
      ]
    },
    {
      "cell_type": "markdown",
      "source": [
        "#DO:Explore other common machine learning datasets\n",
        "\n",
        "Below are common machine learning datasets that you should be able to find resources on. See if you can find code to build a model and test the model using one of the datasets below.\n",
        "\n",
        "* CIFAR-10: Image classification dataset with 50,000 training images and 10,000 test images of size 32x32. Contains 10 classes of objects.\n",
        "\n",
        "*CIFAR-100: Image classification dataset with 50,000 training images and 10,000 test images of size 32x32. Contains 100 fine-grained classes of objects.\n",
        "\n",
        "* Fashion-MNIST: Clothing image classification dataset with 60,000 training images and 10,000 test images of size 28x28. Contains 10 classes of clothing items.\n",
        "\n",
        "*IMDB movie reviews: A binary sentiment analysis dataset of 25,000 movie reviews for training and 25,000 for testing. The reviews have been preprocessed and each one is associated with a label indicating a positive or negative sentiment."
      ],
      "metadata": {
        "id": "2JUE3Vqeye5z"
      }
    },
    {
      "cell_type": "markdown",
      "source": [
        "Please don't make me try any more of these models they are not working and I just want it to recognize my 6 and 1 :("
      ],
      "metadata": {
        "id": "68xvOhMr8uLe"
      }
    },
    {
      "cell_type": "code",
      "source": [],
      "metadata": {
        "id": "DbhcY5q3zNKe"
      },
      "execution_count": null,
      "outputs": []
    }
  ]
}