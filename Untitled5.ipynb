{
  "nbformat": 4,
  "nbformat_minor": 0,
  "metadata": {
    "colab": {
      "provenance": [],
      "authorship_tag": "ABX9TyP9nupw2bq4/6LOvncgiTOy",
      "include_colab_link": true
    },
    "kernelspec": {
      "name": "python3",
      "display_name": "Python 3"
    },
    "language_info": {
      "name": "python"
    }
  },
  "cells": [
    {
      "cell_type": "markdown",
      "metadata": {
        "id": "view-in-github",
        "colab_type": "text"
      },
      "source": [
        "<a href=\"https://colab.research.google.com/github/SashaR39/data/blob/master/Untitled5.ipynb\" target=\"_parent\"><img src=\"https://colab.research.google.com/assets/colab-badge.svg\" alt=\"Open In Colab\"/></a>"
      ]
    },
    {
      "cell_type": "code",
      "execution_count": 1,
      "metadata": {
        "id": "q9JJ78O5iGw3"
      },
      "outputs": [],
      "source": [
        "def stepsToZero(num):\n",
        "  steps = 0\n",
        "  while num >0:\n",
        "    if num %2 == 0:\n",
        "      num = num/2\n",
        "      steps = steps +1\n",
        "    elif num%2 == 1:\n",
        "      num = num-1\n",
        "      steps = steps +1\n",
        "  return steps"
      ]
    },
    {
      "cell_type": "code",
      "source": [
        "stepsToZero(9)"
      ],
      "metadata": {
        "colab": {
          "base_uri": "https://localhost:8080/"
        },
        "id": "sGWOg_WBiZtD",
        "outputId": "81380681-128c-428c-ebd7-953736f7ab48"
      },
      "execution_count": 4,
      "outputs": [
        {
          "output_type": "execute_result",
          "data": {
            "text/plain": [
              "5"
            ]
          },
          "metadata": {},
          "execution_count": 4
        }
      ]
    },
    {
      "cell_type": "code",
      "source": [
        "def runningSumList(nums):\n",
        "  nums = [1,2,3,4]\n",
        "  runningSumList = []\n",
        "  for i in nums:\n",
        "    Total = sum(range(0,i))\n",
        "    runningSumList.append(Total)\n",
        "  return runningSumList\n"
      ],
      "metadata": {
        "id": "DH4U7Ek8kLEN"
      },
      "execution_count": 17,
      "outputs": []
    },
    {
      "cell_type": "code",
      "source": [
        "  nums = [1,2,3,4]\n",
        "\n",
        "runningSumList(nums)"
      ],
      "metadata": {
        "colab": {
          "base_uri": "https://localhost:8080/"
        },
        "id": "oA7N0955kmOY",
        "outputId": "defe101c-e8d2-49f8-8c63-58647ec73082"
      },
      "execution_count": 18,
      "outputs": [
        {
          "output_type": "execute_result",
          "data": {
            "text/plain": [
              "[0, 1, 3, 6]"
            ]
          },
          "metadata": {},
          "execution_count": 18
        }
      ]
    },
    {
      "cell_type": "code",
      "source": [
        "def multiplicationThroughAddition (x,y):\n",
        "  newx = 0  \n",
        "  while y > 0: \n",
        "    y = abs(y-1)\n",
        "    newx = newx + abs(x)\n",
        "  return abs(newx)"
      ],
      "metadata": {
        "id": "RIFEYRV-l8TM"
      },
      "execution_count": 40,
      "outputs": []
    },
    {
      "cell_type": "code",
      "source": [
        "multiplicationThroughAddition(-2,-2)"
      ],
      "metadata": {
        "colab": {
          "base_uri": "https://localhost:8080/"
        },
        "id": "IVfPaGB5mRIk",
        "outputId": "bd32e107-1f1c-4c52-dacd-7a863f06f477"
      },
      "execution_count": 41,
      "outputs": [
        {
          "output_type": "execute_result",
          "data": {
            "text/plain": [
              "0"
            ]
          },
          "metadata": {},
          "execution_count": 41
        }
      ]
    }
  ]
}