{
  "nbformat": 4,
  "nbformat_minor": 0,
  "metadata": {
    "colab": {
      "provenance": [],
      "authorship_tag": "ABX9TyPqEuf3GxCt6BCS/7oxJYsZ",
      "include_colab_link": true
    },
    "kernelspec": {
      "name": "python3",
      "display_name": "Python 3"
    },
    "language_info": {
      "name": "python"
    }
  },
  "cells": [
    {
      "cell_type": "markdown",
      "metadata": {
        "id": "view-in-github",
        "colab_type": "text"
      },
      "source": [
        "<a href=\"https://colab.research.google.com/github/SashaR39/data/blob/master/Untitled3.ipynb\" target=\"_parent\"><img src=\"https://colab.research.google.com/assets/colab-badge.svg\" alt=\"Open In Colab\"/></a>"
      ]
    },
    {
      "cell_type": "code",
      "execution_count": 24,
      "metadata": {
        "id": "lYR9ecwhFmfQ"
      },
      "outputs": [],
      "source": [
        "import math\n",
        "def numFlip(number):\n",
        "  numberFlipped = []\n",
        "  for i in str(number):\n",
        "      numberFlipped.append (number%10)\n",
        "      number = math.floor(number / 10)\n",
        "  display (numberFlipped)"
      ]
    },
    {
      "cell_type": "code",
      "source": [
        "numFlip(4252)"
      ],
      "metadata": {
        "colab": {
          "base_uri": "https://localhost:8080/",
          "height": 34
        },
        "id": "VMP8pocXJEoB",
        "outputId": "c96e50b3-f8d3-4d24-dbf3-9431c17092f2"
      },
      "execution_count": 26,
      "outputs": [
        {
          "output_type": "display_data",
          "data": {
            "text/plain": [
              "[2, 5, 2, 4]"
            ]
          },
          "metadata": {}
        }
      ]
    }
  ]
}