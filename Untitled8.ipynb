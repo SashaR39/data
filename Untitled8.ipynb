{
  "nbformat": 4,
  "nbformat_minor": 0,
  "metadata": {
    "colab": {
      "provenance": [],
      "authorship_tag": "ABX9TyOT7yZfOlgZv+b8B2tkj1k6",
      "include_colab_link": true
    },
    "kernelspec": {
      "name": "python3",
      "display_name": "Python 3"
    },
    "language_info": {
      "name": "python"
    }
  },
  "cells": [
    {
      "cell_type": "markdown",
      "metadata": {
        "id": "view-in-github",
        "colab_type": "text"
      },
      "source": [
        "<a href=\"https://colab.research.google.com/github/SashaR39/data/blob/master/Untitled8.ipynb\" target=\"_parent\"><img src=\"https://colab.research.google.com/assets/colab-badge.svg\" alt=\"Open In Colab\"/></a>"
      ]
    },
    {
      "cell_type": "code",
      "execution_count": 4,
      "metadata": {
        "id": "lMwGK3Hctzsp"
      },
      "outputs": [],
      "source": [
        "import random\n",
        "def MagBall():\n",
        "  response = input(\"Please ask a question.\")\n",
        "  choices = [\"definitely\", \"maybe\", \"possibly\", \"absolutely not\", \"perhaps\", \"in your dreams\", \"come back later\", \"wouldn't you like to know\", \"I do not know\", \"that is out of my pay grade\", \"not my place to say\"]\n",
        "  answer = random.choice(choices)\n",
        "  return answer"
      ]
    },
    {
      "cell_type": "code",
      "source": [
        "MagBall()"
      ],
      "metadata": {
        "colab": {
          "base_uri": "https://localhost:8080/",
          "height": 53
        },
        "id": "0N7ZDNpLvPnO",
        "outputId": "1d2ca302-1b70-434e-aff5-0412f0958b45"
      },
      "execution_count": 5,
      "outputs": [
        {
          "name": "stdout",
          "output_type": "stream",
          "text": [
            "Please ask a question.Will I get married?\n"
          ]
        },
        {
          "output_type": "execute_result",
          "data": {
            "text/plain": [
              "\"wouldn't you like to know\""
            ],
            "application/vnd.google.colaboratory.intrinsic+json": {
              "type": "string"
            }
          },
          "metadata": {},
          "execution_count": 5
        }
      ]
    }
  ]
}